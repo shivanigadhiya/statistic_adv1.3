{
 "cells": [
  {
   "cell_type": "markdown",
   "id": "081a1619-e511-499c-90a5-6d63e70ae80a",
   "metadata": {},
   "source": [
    "Q1: What is Estimation Statistics? Explain point estimate and interval estimate."
   ]
  },
  {
   "cell_type": "markdown",
   "id": "769cb5bf-b457-4caf-b183-66774fa7035d",
   "metadata": {},
   "source": [
    "It is an observed numerical value used to estimate an unknown population parameter."
   ]
  },
  {
   "cell_type": "markdown",
   "id": "cd2d01be-ec9c-48d3-b202-09e825d85806",
   "metadata": {},
   "source": [
    "Point estimate:single numerical value used to  estimate the unknown population parameter."
   ]
  },
  {
   "cell_type": "markdown",
   "id": "0300e9f9-ccbf-471f-a60d-37ed97b147da",
   "metadata": {},
   "source": [
    "Interval estimate : Range of values used to estimate the unknown population parameter."
   ]
  },
  {
   "cell_type": "markdown",
   "id": "27553059-0c28-49c9-8434-5d0fe1759375",
   "metadata": {},
   "source": [
    "Q2. Write a Python function to estimate the population mean using a sample mean and standard\n",
    "deviation."
   ]
  },
  {
   "cell_type": "code",
   "execution_count": 1,
   "id": "0cb23ad4-86b8-43c0-acc1-3aa924ff5ce9",
   "metadata": {},
   "outputs": [
    {
     "name": "stdout",
     "output_type": "stream",
     "text": [
      "Estimated Population Mean: 45.6\n"
     ]
    }
   ],
   "source": [
    "def estimate_population_mean(sample_mean, sample_std_dev, sample_size):\n",
    "    # Check if the sample size is greater than 1 to avoid division by zero\n",
    "    if sample_size <= 1:\n",
    "        raise ValueError(\"Sample size must be greater than 1\")\n",
    "    \n",
    "    # Calculate the estimated population mean\n",
    "    population_mean = sample_mean\n",
    "    \n",
    "    return population_mean\n",
    "\n",
    "# Example usage:\n",
    "sample_mean = 45.6\n",
    "sample_std_dev = 7.2\n",
    "sample_size = 30\n",
    "\n",
    "estimated_mean = estimate_population_mean(sample_mean, sample_std_dev, sample_size)\n",
    "print(f\"Estimated Population Mean: {estimated_mean}\")\n"
   ]
  },
  {
   "cell_type": "markdown",
   "id": "d5982567-9813-4361-98ad-3893040bfc54",
   "metadata": {},
   "source": [
    "Q3: What is Hypothesis testing? Why is it used? State the importance of Hypothesis testing."
   ]
  },
  {
   "cell_type": "markdown",
   "id": "2241a7aa-4bcb-47c7-b426-f9478346b7f6",
   "metadata": {},
   "source": [
    "The purpose of hypothesis testing is to test whether the null hypothesis (there is no difference, no effect) can be rejected or approved. If the null hypothesis is rejected, then the research hypothesis can be accepted."
   ]
  },
  {
   "cell_type": "markdown",
   "id": "952cee89-f38f-4dac-a61a-807f23d038ed",
   "metadata": {},
   "source": [
    "It is used when we need to make decisions concerning populations on the basis of only sample information."
   ]
  },
  {
   "cell_type": "markdown",
   "id": "46762be3-b7ef-4397-ab97-361b8d6b528f",
   "metadata": {},
   "source": [
    "Hypothesis testing is a systematic procedure for deciding whether the results of a research study support a particular theory which applies to a population. Hypothesis testing uses sample data to evaluate a hypothesis about a population."
   ]
  },
  {
   "cell_type": "markdown",
   "id": "feb5475f-424d-44b5-8787-835dd1072f9c",
   "metadata": {},
   "source": [
    "Q4. Create a hypothesis that states whether the average weight of male college students is greater than\n",
    "the average weight of female college students."
   ]
  },
  {
   "cell_type": "markdown",
   "id": "316fec62-7902-4bb3-a5d7-84117f32c2a4",
   "metadata": {},
   "source": [
    "Null Hypothesis (H0): H0: μ_male_weight ≤ μ_female_weight"
   ]
  },
  {
   "cell_type": "markdown",
   "id": "fcc234f9-ecd7-4795-a4d5-9982169c326f",
   "metadata": {},
   "source": [
    "Alternative Hypothesis (Ha): Ha: μ_male_weight > μ_female_weight"
   ]
  },
  {
   "cell_type": "markdown",
   "id": "231d23dc-65a2-4198-8e79-8bb13b64c447",
   "metadata": {},
   "source": [
    "Q5. Write a Python script to conduct a hypothesis test on the difference between two population means,\n",
    "given a sample from each population."
   ]
  },
  {
   "cell_type": "code",
   "execution_count": 3,
   "id": "c8b5f64e-a80f-4239-852f-303d52dfc0dc",
   "metadata": {},
   "outputs": [
    {
     "name": "stdout",
     "output_type": "stream",
     "text": [
      "Sample 1 Mean: 71.4\n",
      "Sample 2 Mean: 64.4\n",
      "T-statistic: 7.047138579747256\n",
      "P-value: 1.4197141531533345e-06\n",
      "Reject the null hypothesis: There is a significant difference between the population means.\n"
     ]
    }
   ],
   "source": [
    "import numpy as np\n",
    "from scipy import stats\n",
    "\n",
    "# Sample data from population 1 (e.g., male college students)\n",
    "sample1 = np.array([70, 72, 68, 75, 73, 71, 74, 69, 72, 70])\n",
    "\n",
    "# Sample data from population 2 (e.g., female college students)\n",
    "sample2 = np.array([62, 65, 63, 67, 64, 66, 61, 68, 63, 65])\n",
    "\n",
    "# Define significance level (alpha)\n",
    "alpha = 0.05\n",
    "\n",
    "# Perform the independent two-sample t-test\n",
    "t_statistic, p_value = stats.ttest_ind(sample1, sample2)\n",
    "\n",
    "# Print the results\n",
    "print(f\"Sample 1 Mean: {np.mean(sample1)}\")\n",
    "print(f\"Sample 2 Mean: {np.mean(sample2)}\")\n",
    "print(f\"T-statistic: {t_statistic}\")\n",
    "print(f\"P-value: {p_value}\")\n",
    "\n",
    "# Check if the p-value is less than the significance level to determine statistical significance\n",
    "if p_value < alpha:\n",
    "    print(\"Reject the null hypothesis: There is a significant difference between the population means.\")\n",
    "else:\n",
    "    print(\"Fail to reject the null hypothesis: There is no significant difference between the population means.\")\n"
   ]
  },
  {
   "cell_type": "markdown",
   "id": "740722b6-c9b9-4bd2-8e24-4cd0ca1c84e3",
   "metadata": {},
   "source": [
    "Q6: What is a null and alternative hypothesis? Give some examples."
   ]
  },
  {
   "cell_type": "markdown",
   "id": "beeb7a02-67df-442b-8d75-e49beb450033",
   "metadata": {},
   "source": [
    "Null Hypothesis (H0):\n",
    "The null hypothesis typically represents the statement of no effect or no difference. "
   ]
  },
  {
   "cell_type": "markdown",
   "id": "e971b967-52e3-4679-a653-6c019e14875b",
   "metadata": {},
   "source": [
    "Alternative Hypothesis (Ha):\n",
    "The alternative hypothesis contradicts the null hypothesis "
   ]
  },
  {
   "cell_type": "markdown",
   "id": "d637f792-2578-438c-9e7a-9974c9eb59e7",
   "metadata": {},
   "source": [
    "example:  Create a hypothesis that states whether the average weight of male college students is greater than\n",
    "the average weight of female college students."
   ]
  },
  {
   "cell_type": "markdown",
   "id": "d15db596-d767-43e4-8020-c52305191e65",
   "metadata": {},
   "source": [
    "Null Hypothesis (H0): H0: μ_male_weight ≤ μ_female_weight\n",
    "\n",
    "Alternative Hypothesis (Ha): Ha: μ_male_weight > μ_female_weight"
   ]
  },
  {
   "cell_type": "markdown",
   "id": "57339369-00a6-4037-b7b3-5e38e98c2e27",
   "metadata": {},
   "source": [
    "Q7: Write down the steps involved in hypothesis testing."
   ]
  },
  {
   "cell_type": "markdown",
   "id": "e1390e83-55e1-4ccf-9ca2-43bbd6319257",
   "metadata": {},
   "source": [
    "1.create null and alternative hypothesis\n",
    "2.Draw decision boundry\n",
    "3.calculate p value\n",
    "4.make  conclusion"
   ]
  },
  {
   "cell_type": "markdown",
   "id": "fce55aa9-1d0e-4d26-868b-6007ebce121f",
   "metadata": {},
   "source": [
    "Q8. Define p-value and explain its significance in hypothesis testing."
   ]
  },
  {
   "cell_type": "markdown",
   "id": "3211fc02-6aaa-419b-8cf2-4c8303724847",
   "metadata": {},
   "source": [
    "The p-value, short for \"probability value,\" is a crucial concept in hypothesis testing in statistics. It represents the probability of observing a test statistic as extreme as, or more extreme than, the one calculated from sample data, assuming that the null hypothesis is true. In other words, it quantifies the evidence against the null hypothesis. "
   ]
  },
  {
   "cell_type": "markdown",
   "id": "fa43bb22-2610-4a60-b5cf-ece632325465",
   "metadata": {},
   "source": [
    "The significance level, often set at 0.05 (5%) or 0.01 (1%), is a predetermined threshold used to make decisions in hypothesis testing. It represents the acceptable level of risk for making a Type I error (false positive), which is the error of rejecting the null hypothesis when it's actually true."
   ]
  },
  {
   "cell_type": "markdown",
   "id": "3dbe31c8-a486-46b8-8f4c-f0bbf7bc4377",
   "metadata": {},
   "source": [
    "Q9. Generate a Student's t-distribution plot using Python's matplotlib library, with the degrees of freedom\n",
    "parameter set to 10."
   ]
  },
  {
   "cell_type": "code",
   "execution_count": 6,
   "id": "bada9b2d-6ab4-49a9-84c4-7088953d7ff7",
   "metadata": {},
   "outputs": [
    {
     "data": {
      "image/png": "[encoded data removed]",
      "text/plain": [
       "<Figure size 800x600 with 1 Axes>"
      ]
     },
     "metadata": {},
     "output_type": "display_data"
    }
   ],
   "source": [
    "import numpy as np\n",
    "import matplotlib.pyplot as plt\n",
    "from scipy.stats import t\n",
    "\n",
    "# Degrees of freedom\n",
    "df = 10\n",
    "\n",
    "# Generate x values for the t-distribution plot\n",
    "x = np.linspace(-4, 4, 400)  # Adjust the range as needed\n",
    "\n",
    "# Calculate the probability density function (PDF) for the t-distribution\n",
    "pdf = t.pdf(x, df)\n",
    "\n",
    "# Create a plot\n",
    "plt.figure(figsize=(8, 6))\n",
    "plt.plot(x, pdf, label=f\"t-Distribution (df={df})\")\n",
    "\n",
    "# Add labels and a legend\n",
    "plt.title(\"Student's t-Distribution\")\n",
    "plt.xlabel(\"x\")\n",
    "plt.ylabel(\"Probability Density\")\n",
    "plt.legend()\n",
    "\n",
    "# Show the plot\n",
    "plt.grid(True)\n",
    "plt.show()\n"
   ]
  },
  {
   "cell_type": "markdown",
   "id": "5b998b9c-c622-4b37-a82b-4d238a30a86c",
   "metadata": {},
   "source": [
    "Q10. Write a Python program to calculate the two-sample t-test for independent samples, given two\n",
    "random samples of equal size and a null hypothesis that the population means are equal."
   ]
  },
  {
   "cell_type": "code",
   "execution_count": 7,
   "id": "fa714237-36c7-4f52-b8c3-6ef40d561fca",
   "metadata": {},
   "outputs": [
    {
     "name": "stdout",
     "output_type": "stream",
     "text": [
      "Sample 1 Mean: 48.85868987485198\n",
      "Sample 2 Mean: 53.26376950886119\n",
      "T-statistic: -1.9426474098651036\n",
      "P-value: 0.05492890048152892\n",
      "Fail to reject the null hypothesis: Population means are equal (not statistically significant).\n"
     ]
    }
   ],
   "source": [
    "import numpy as np\n",
    "from scipy import stats\n",
    "\n",
    "# Generate two random samples (replace these with your data)\n",
    "sample1 = np.random.normal(loc=50, scale=10, size=50)  # Sample 1 with mean 50 and standard deviation 10\n",
    "sample2 = np.random.normal(loc=55, scale=10, size=50)  # Sample 2 with mean 55 and standard deviation 10\n",
    "\n",
    "# Define the null hypothesis: H0 - Population means are equal\n",
    "# The alternative hypothesis (Ha) is that the means are not equal (two-tailed test).\n",
    "# If you want a one-tailed test, you can modify the alternative hypothesis accordingly.\n",
    "alpha = 0.05  # Significance level\n",
    "\n",
    "# Perform the independent two-sample t-test\n",
    "t_statistic, p_value = stats.ttest_ind(sample1, sample2)\n",
    "\n",
    "# Print the results\n",
    "print(\"Sample 1 Mean:\", np.mean(sample1))\n",
    "print(\"Sample 2 Mean:\", np.mean(sample2))\n",
    "print(\"T-statistic:\", t_statistic)\n",
    "print(\"P-value:\", p_value)\n",
    "\n",
    "# Compare the p-value to the significance level to make a decision\n",
    "if p_value < alpha:\n",
    "    print(\"Reject the null hypothesis: Population means are not equal (statistically significant).\")\n",
    "else:\n",
    "    print(\"Fail to reject the null hypothesis: Population means are equal (not statistically significant).\")\n"
   ]
  },
  {
   "cell_type": "markdown",
   "id": "d6ee8c7c-fa72-4e27-80d7-aa8d87f621e0",
   "metadata": {},
   "source": [
    "Q11: What is Student’s t distribution? When to use the t-Distribution."
   ]
  },
  {
   "cell_type": "markdown",
   "id": "9ddfeb0b-5225-49b9-b9f6-472b3cdc7607",
   "metadata": {},
   "source": [
    "Student's t-distribution, often simply referred to as the t-distribution, is a probability distribution that is similar in shape to the normal distribution (bell-shaped curve) but with heavier tails."
   ]
  },
  {
   "cell_type": "markdown",
   "id": "432d0f4f-3a14-4243-bec0-856cbc30ab1b",
   "metadata": {},
   "source": [
    "We use t-Distribution when Small Sample Sizes , Unknown Population Standard Deviation,Hypothesis Testing,Quality Control"
   ]
  },
  {
   "cell_type": "markdown",
   "id": "db1d82f0-ab1b-41b2-864c-95460ab10b68",
   "metadata": {},
   "source": [
    "Q12: What is t-statistic? State the formula for t-statistic."
   ]
  },
  {
   "cell_type": "markdown",
   "id": "c5ef354b-2cf9-4315-a497-c11c1154491f",
   "metadata": {},
   "source": [
    "The t-statistic, also known as the Student's t-statistic, is a statistical measure used in hypothesis testing to assess whether the difference between sample means is statistically significant. It quantifies the difference between the sample means in terms of the estimated standard error of the difference. The t-statistic is particularly useful when dealing with small sample sizes and when the population standard deviation is unknown."
   ]
  },
  {
   "cell_type": "markdown",
   "id": "70b76711-ae38-4d67-9aaf-84ebe2471228",
   "metadata": {},
   "source": [
    "t = x1bar - x2bar/Sp* underroot of 1/n1 + 1/n2\n"
   ]
  },
  {
   "cell_type": "markdown",
   "id": "20e97ade-8cc6-499b-9052-17bc924a26c2",
   "metadata": {},
   "source": [
    "Q13. A coffee shop owner wants to estimate the average daily revenue for their shop. They take a random\n",
    "sample of 50 days and find the sample mean revenue to be $500 with a standard deviation of $50.\n",
    "Estimate the population mean revenue with a 95% confidence interval."
   ]
  },
  {
   "cell_type": "markdown",
   "id": "54e0eeb5-f931-4cc4-93fe-c36f57c25bfc",
   "metadata": {},
   "source": [
    "So, the 95% confidence interval for the population mean revenue is approximately $486.13 to $513.87. This means we can be 95% confident that the true population mean revenue falls within this range based on the sample data."
   ]
  },
  {
   "cell_type": "markdown",
   "id": "ec56a273-bfa9-4018-8c79-b816c3c48cc0",
   "metadata": {},
   "source": [
    "Q14. A researcher hypothesizes that a new drug will decrease blood pressure by 10 mmHg. They conduct a\n",
    "clinical trial with 100 patients and find that the sample mean decrease in blood pressure is 8 mmHg with a\n",
    "standard deviation of 3 mmHg. Test the hypothesis with a significance level of 0.05."
   ]
  },
  {
   "cell_type": "markdown",
   "id": "46e9bacc-906f-4963-9eb8-1bb5b8bbf3a3",
   "metadata": {},
   "source": [
    "Based on the calculated t-statistic of -6.67 and the significance level of 0.05, we can safely reject the null hypothesis. This means that there is strong evidence to suggest that the new drug does have an effect on decreasing blood pressure, and the mean decrease in blood pressure is not equal to 10 mmHg."
   ]
  },
  {
   "cell_type": "markdown",
   "id": "8555d43c-8553-4725-864a-a1fede924882",
   "metadata": {},
   "source": [
    "Q15. An electronics company produces a certain type of product with a mean weight of 5 pounds and a\n",
    "standard deviation of 0.5 pounds. A random sample of 25 products is taken, and the sample mean weight\n",
    "is found to be 4.8 pounds. Test the hypothesis that the true mean weight of the products is less than 5\n",
    "pounds with a significance level of 0.01."
   ]
  },
  {
   "cell_type": "markdown",
   "id": "c3808050-d766-4498-871c-fb883fd2c840",
   "metadata": {},
   "source": [
    "Since you fail to reject the null hypothesis, there is not enough evidence to conclude that the true mean weight of the products is less than 5 pounds at the 0.01 significance level. In other words, you do not have sufficient evidence to support the claim that the mean weight is less than 5 pounds."
   ]
  },
  {
   "cell_type": "markdown",
   "id": "3e50e290-2b4e-479e-8322-266b5db57914",
   "metadata": {},
   "source": [
    "Q16. Two groups of students are given different study materials to prepare for a test. The first group (n1 =\n",
    "30) has a mean score of 80 with a standard deviation of 10, and the second group (n2 = 40) has a mean\n",
    "score of 75 with a standard deviation of 8. Test the hypothesis that the population means for the two\n",
    "groups are equal with a significance level of 0.01."
   ]
  },
  {
   "cell_type": "markdown",
   "id": "8ad467f1-bc19-4bc8-b3b3-edcecdfe1ce7",
   "metadata": {},
   "source": [
    "Since you fail to reject the null hypothesis, there is not enough evidence to conclude that the population means of the two groups are different at the 0.01 significance level. In other words, based on the sample data, you do not have sufficient evidence to support the claim that the population means of the two groups are not equal."
   ]
  },
  {
   "cell_type": "markdown",
   "id": "c9aeb4af-cc66-4059-ad8f-4236ef5a2f6b",
   "metadata": {},
   "source": [
    "Q17. A marketing company wants to estimate the average number of ads watched by viewers during a TV\n",
    "program. They take a random sample of 50 viewers and find that the sample mean is 4 with a standard\n",
    "deviation of 1.5. Estimate the population mean with a 99% confidence interval."
   ]
  },
  {
   "cell_type": "markdown",
   "id": "4e309a1f-9729-4ed3-9196-8b1b16c30457",
   "metadata": {},
   "source": [
    "So, the 99% confidence interval for the population mean number of ads watched by viewers during a TV program is approximately (3.4536, 4.5464). This means that we are 99% confident that the true population mean number of ads watched falls within this interval."
   ]
  },
  {
   "cell_type": "code",
   "execution_count": null,
   "id": "8165b74b-3e80-4dfe-910e-25e1623a8358",
   "metadata": {},
   "outputs": [],
   "source": []
  }
 ],
 "metadata": {
  "kernelspec": {
   "display_name": "Python 3 (ipykernel)",
   "language": "python",
   "name": "python3"
  },
  "language_info": {
   "codemirror_mode": {
    "name": "ipython",
    "version": 3
   },
   "file_extension": ".py",
   "mimetype": "text/x-python",
   "name": "python",
   "nbconvert_exporter": "python",
   "pygments_lexer": "ipython3",
   "version": "3.10.8"
  }
 },
 "nbformat": 4,
 "nbformat_minor": 5
}
